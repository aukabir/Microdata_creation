{
  "nbformat": 4,
  "nbformat_minor": 0,
  "metadata": {
    "colab": {
      "provenance": [],
      "authorship_tag": "ABX9TyOdxMn2MZ6b9bXTuyLYVt8V",
      "include_colab_link": true
    },
    "kernelspec": {
      "name": "python3",
      "display_name": "Python 3"
    },
    "language_info": {
      "name": "python"
    }
  },
  "cells": [
    {
      "cell_type": "markdown",
      "metadata": {
        "id": "view-in-github",
        "colab_type": "text"
      },
      "source": [
        "<a href=\"https://colab.research.google.com/github/aukabir/Microdata_creation/blob/main/Creating_micro_data.ipynb\" target=\"_parent\"><img src=\"https://colab.research.google.com/assets/colab-badge.svg\" alt=\"Open In Colab\"/></a>"
      ]
    },
    {
      "cell_type": "code",
      "execution_count": 14,
      "metadata": {
        "id": "nsrGZzDFTP9f",
        "colab": {
          "base_uri": "https://localhost:8080/"
        },
        "outputId": "d03a2928-0c40-466b-d3c5-80ba3d885cae"
      },
      "outputs": [
        {
          "output_type": "stream",
          "name": "stdout",
          "text": [
            "    x  y\n",
            "0   1  2\n",
            "1   2  5\n",
            "2   3  6\n",
            "3   4  4\n",
            "4   5  3\n",
            "5   6  2\n",
            "6   7  1\n",
            "7   8  4\n",
            "8   9  5\n",
            "9  10  6\n"
          ]
        }
      ],
      "source": [
        "import pandas as pd\n",
        "\n",
        "# For integer observation\n",
        "x=[1,2,3,4,5,6,7,8,9,10]\n",
        "y=[2,5,6,4,3,2,1,4,5,6]\n",
        "\n",
        "# Creating a DataFrame\n",
        "data = {'x': x, 'y': y}\n",
        "df = pd.DataFrame(data)\n",
        "\n",
        "# Displaying the DataFrame\n",
        "print(df)"
      ]
    },
    {
      "cell_type": "code",
      "source": [
        "import pandas as pd\n",
        "df = pd.DataFrame ({'Name': ['Alice', 'Bob', 'Charlie'],\n",
        "                     'Age': [25, 30, 35],\n",
        "                  'Salary': [50000, 60000, 70000]},\n",
        "                   columns = ['Name','Age','Salary'])\n",
        "\n",
        "# Displaying the DataFrame\n",
        "print(df)"
      ],
      "metadata": {
        "colab": {
          "base_uri": "https://localhost:8080/"
        },
        "id": "jUWvXVKLU6Vr",
        "outputId": "2bfb2765-6f47-4810-aca4-058e563f3fe4"
      },
      "execution_count": 25,
      "outputs": [
        {
          "output_type": "stream",
          "name": "stdout",
          "text": [
            "      Name  Age  Salary\n",
            "0    Alice   25   50000\n",
            "1      Bob   30   60000\n",
            "2  Charlie   35   70000\n"
          ]
        }
      ]
    },
    {
      "cell_type": "code",
      "source": [
        "import pandas as pd\n",
        "import numpy as np\n",
        "\n",
        "df = pd.DataFrame({'Geeks': [23, 24, 22],\n",
        "                     'For': [10, 12, np.nan],\n",
        "                   'geeks': [0, np.nan, np.nan]},\n",
        "            columns =['Geeks', 'For', 'geeks'])\n",
        "\n",
        "# Displaying the DataFrame\n",
        "print(df)"
      ],
      "metadata": {
        "colab": {
          "base_uri": "https://localhost:8080/"
        },
        "id": "3xQ18STGU9PC",
        "outputId": "5b8bc927-8e16-457a-bf13-a812d0092f6d"
      },
      "execution_count": 26,
      "outputs": [
        {
          "output_type": "stream",
          "name": "stdout",
          "text": [
            "   Geeks   For  geeks\n",
            "0     23  10.0    0.0\n",
            "1     24  12.0    NaN\n",
            "2     22   NaN    NaN\n"
          ]
        }
      ]
    }
  ]
}